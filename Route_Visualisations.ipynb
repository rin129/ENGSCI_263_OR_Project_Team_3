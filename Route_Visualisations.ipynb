{
 "cells": [
  {
   "cell_type": "markdown",
   "metadata": {},
   "source": [
    "Importing all libraries and data needed"
   ]
  },
  {
   "cell_type": "code",
   "execution_count": 1,
   "metadata": {},
   "outputs": [
    {
     "name": "stderr",
     "output_type": "stream",
     "text": [
      "/opt/anaconda3/lib/python3.8/site-packages/pulp/pulp.py:1316: UserWarning: Spaces are not permitted in the name. Converted to '_'\n",
      "  warnings.warn(\"Spaces are not permitted in the name. Converted to '_'\")\n"
     ]
    },
    {
     "name": "stdout",
     "output_type": "stream",
     "text": [
      "Status: Optimal\n",
      "Status: Optimal\n"
     ]
    }
   ],
   "source": [
    "import numpy as np\n",
    "import pandas as pd\n",
    "import folium\n",
    "import time\n",
    "import openrouteservice as ors\n",
    "from linearProgram import optimal_Routes\n",
    "from linearProgramSat import optimal_routes_weekend"
   ]
  },
  {
   "cell_type": "markdown",
   "metadata": {},
   "source": [
    "Reading in coordinates of stores"
   ]
  },
  {
   "cell_type": "code",
   "execution_count": 4,
   "metadata": {},
   "outputs": [],
   "source": [
    "locations = pd.read_csv(\"WoolworthsLocations.csv\")\n",
    "cords = locations[['Long' , 'Lat']]\n",
    "locs = locations['Store']\n",
    "coords = cords.to_numpy().tolist()\n",
    "cords_locs = locations[['Store','Long','Lat']]"
   ]
  },
  {
   "cell_type": "markdown",
   "metadata": {},
   "source": [
    "Setting up optimal routes"
   ]
  },
  {
   "cell_type": "markdown",
   "metadata": {},
   "source": [
    "OptR = optimal_Routes\n",
    "OptRW = optimal_routes_weekend"
   ]
  },
  {
   "cell_type": "markdown",
   "metadata": {},
   "source": [
    "Route Visualisations for weekdays"
   ]
  },
  {
   "cell_type": "code",
   "execution_count": 5,
   "metadata": {
    "scrolled": false
   },
   "outputs": [
    {
     "ename": "NameError",
     "evalue": "name 'OptR' is not defined",
     "output_type": "error",
     "traceback": [
      "\u001b[0;31m---------------------------------------------------------------------------\u001b[0m",
      "\u001b[0;31mNameError\u001b[0m                                 Traceback (most recent call last)",
      "\u001b[0;32m<ipython-input-5-b0833cabde13>\u001b[0m in \u001b[0;36m<module>\u001b[0;34m\u001b[0m\n\u001b[1;32m      9\u001b[0m \u001b[0mtimer\u001b[0m \u001b[0;34m=\u001b[0m \u001b[0;36m0\u001b[0m\u001b[0;34m\u001b[0m\u001b[0;34m\u001b[0m\u001b[0m\n\u001b[1;32m     10\u001b[0m \u001b[0;31m#Loop through every optimal route\u001b[0m\u001b[0;34m\u001b[0m\u001b[0;34m\u001b[0m\u001b[0;34m\u001b[0m\u001b[0m\n\u001b[0;32m---> 11\u001b[0;31m \u001b[0;32mfor\u001b[0m \u001b[0mi\u001b[0m \u001b[0;32min\u001b[0m \u001b[0mrange\u001b[0m\u001b[0;34m(\u001b[0m\u001b[0mlen\u001b[0m\u001b[0;34m(\u001b[0m\u001b[0mOptR\u001b[0m\u001b[0;34m)\u001b[0m\u001b[0;34m)\u001b[0m\u001b[0;34m:\u001b[0m\u001b[0;34m\u001b[0m\u001b[0;34m\u001b[0m\u001b[0m\n\u001b[0m\u001b[1;32m     12\u001b[0m     \u001b[0;31m#array to store the coordinates of the stores\u001b[0m\u001b[0;34m\u001b[0m\u001b[0;34m\u001b[0m\u001b[0;34m\u001b[0m\u001b[0m\n\u001b[1;32m     13\u001b[0m     \u001b[0;31m#Initial node/store which is the distribution centre\u001b[0m\u001b[0;34m\u001b[0m\u001b[0;34m\u001b[0m\u001b[0;34m\u001b[0m\u001b[0m\n",
      "\u001b[0;31mNameError\u001b[0m: name 'OptR' is not defined"
     ]
    }
   ],
   "source": [
    "#My ORSKey\n",
    "ORSKey= '5b3ce3597851110001cf6248f1e943d6f27f45f38a3d16b210d02c68'\n",
    "client = ors.Client(key=ORSKey)\n",
    "colors = ['#00FFFF','#458B74','#C1CDCD','#E3CF57','#000000','#0000FF','#8A2BE2','#FF4040','#8A360F','#FF6103',\n",
    "         '#7FFF00','#458B00','#8B4513','#3D59AB','#FF7256','#FFF8DC','#DC143C','#008B8B','#9932CC','#C1FFC1',\n",
    "         '#EE1289','#808080','#FF69B4','#8470FF','#00FA9A','#8B5A00','#33A1C9','#FF0000','#F4A460','#8E8E38']\n",
    "\n",
    "m = folium.Map(location = [-36.949,174.808],zoom_start = 10)\n",
    "timer = 0\n",
    "#Loop through every optimal route\n",
    "for i in range(len(OptR)):\n",
    "    #array to store the coordinates of the stores\n",
    "    #Initial node/store which is the distribution centre\n",
    "    a = [(174.808,-36.949)]\n",
    "    timer = timer + 1\n",
    "    if (timer == 20):\n",
    "        time.sleep(60)\n",
    "        timer = 0\n",
    "    #For every node in the route get the coords and append it to the array\n",
    "    #Turn the list into a tuple because the client wants it in tuple form. \n",
    "    for r in OptR[i]:\n",
    "        x = cords_locs.index[cords_locs['Store'] == r].tolist()\n",
    "        c = tuple((coords[x[0]]))\n",
    "        a.append(c)\n",
    "        route = client.directions(\n",
    "            coordinates = a,\n",
    "            profile = \"driving-hgv\",\n",
    "            format = \"geojson\",\n",
    "            validate = False\n",
    "        )\n",
    "        \n",
    "        folium.PolyLine(locations = [list(reversed(coord))\n",
    "                                    for coord in \n",
    "                                        route['features'][0]['geometry']['coordinates']],color = colors[i], opacity = 0.8).add_to(m)\n",
    "        \n",
    "for i in range(0, len(coords)):\n",
    "    if locations.Type[i] == \"Countdown\":\n",
    "        iconCol = \"green\"\n",
    "    elif locations.Type[i] == \"FreshChoice\":\n",
    "        iconCol = \"blue\"\n",
    "    elif locations.Type[i] == \"SuperValue\":\n",
    "        iconCol = \"red\"\n",
    "    elif locations.Type[i] == \"Countdown Metro\":\n",
    "        iconCol = \"orange\"\n",
    "    elif locations.Type[i] == \"Distribution Centre\":\n",
    "        iconCol = \"black\"\n",
    "    folium.Marker(list(reversed(coords[i])), popup= locations.Store[i], icon = folium.Icon(color = iconCol)).add_to(m)\n",
    "m"
   ]
  },
  {
   "cell_type": "markdown",
   "metadata": {},
   "source": [
    "Route Visualisations for Saturday"
   ]
  },
  {
   "cell_type": "code",
   "execution_count": 6,
   "metadata": {},
   "outputs": [
    {
     "ename": "NameError",
     "evalue": "name 'OptRW' is not defined",
     "output_type": "error",
     "traceback": [
      "\u001b[0;31m---------------------------------------------------------------------------\u001b[0m",
      "\u001b[0;31mNameError\u001b[0m                                 Traceback (most recent call last)",
      "\u001b[0;32m<ipython-input-6-bea8ff56f6e8>\u001b[0m in \u001b[0;36m<module>\u001b[0;34m\u001b[0m\n\u001b[1;32m      3\u001b[0m \u001b[0mtimer\u001b[0m \u001b[0;34m=\u001b[0m \u001b[0;36m0\u001b[0m\u001b[0;34m\u001b[0m\u001b[0;34m\u001b[0m\u001b[0m\n\u001b[1;32m      4\u001b[0m \u001b[0;31m#Loop through every optimal route\u001b[0m\u001b[0;34m\u001b[0m\u001b[0;34m\u001b[0m\u001b[0;34m\u001b[0m\u001b[0m\n\u001b[0;32m----> 5\u001b[0;31m \u001b[0;32mfor\u001b[0m \u001b[0mi\u001b[0m \u001b[0;32min\u001b[0m \u001b[0mrange\u001b[0m\u001b[0;34m(\u001b[0m\u001b[0mlen\u001b[0m\u001b[0;34m(\u001b[0m\u001b[0mOptRW\u001b[0m\u001b[0;34m)\u001b[0m\u001b[0;34m)\u001b[0m\u001b[0;34m:\u001b[0m\u001b[0;34m\u001b[0m\u001b[0;34m\u001b[0m\u001b[0m\n\u001b[0m\u001b[1;32m      6\u001b[0m     \u001b[0;31m#array to store the coordinates of the stores\u001b[0m\u001b[0;34m\u001b[0m\u001b[0;34m\u001b[0m\u001b[0;34m\u001b[0m\u001b[0m\n\u001b[1;32m      7\u001b[0m     \u001b[0;31m#Initial node/store which is the distribution centre\u001b[0m\u001b[0;34m\u001b[0m\u001b[0;34m\u001b[0m\u001b[0;34m\u001b[0m\u001b[0m\n",
      "\u001b[0;31mNameError\u001b[0m: name 'OptRW' is not defined"
     ]
    }
   ],
   "source": [
    "m = folium.Map(location = [-36.949,174.808],zoom_start = 10)\n",
    "#Implement a timer so the rate limit for getting directions is not exceeded\n",
    "timer = 0\n",
    "#Loop through every optimal route\n",
    "for i in range(len(OptRW)):\n",
    "    #array to store the coordinates of the stores\n",
    "    #Initial node/store which is the distribution centre\n",
    "    a = [(174.808,-36.949)]\n",
    "    timer = timer + 1\n",
    "    if (timer == 9):\n",
    "        time.sleep(60)\n",
    "        timer = 0\n",
    "    #For every node in the route get the coords and append it to the array\n",
    "    #Turn the list into a tuple because the client wants it in tuple form. \n",
    "    for r in OptRW[i]:\n",
    "        x = cords_locs.index[cords_locs['Store'] == r].tolist()\n",
    "        c = tuple((coords[x[0]]))\n",
    "        a.append(c)\n",
    "        route = client.directions(\n",
    "            coordinates = a,\n",
    "            profile = \"driving-hgv\",\n",
    "            format = \"geojson\",\n",
    "            validate = False\n",
    "        )\n",
    "        \n",
    "        folium.PolyLine(locations = [list(reversed(coord))\n",
    "                                    for coord in \n",
    "                                        route['features'][0]['geometry']['coordinates']],color = colors[i], opacity = 0.8).add_to(m)\n",
    "        \n",
    "for i in range(0, len(coords)):\n",
    "    if locations.Type[i] == \"Countdown\":\n",
    "        iconCol = \"green\"\n",
    "    elif locations.Type[i] == \"FreshChoice\":\n",
    "        iconCol = \"blue\"\n",
    "    elif locations.Type[i] == \"SuperValue\":\n",
    "        iconCol = \"red\"\n",
    "    elif locations.Type[i] == \"Countdown Metro\":\n",
    "        iconCol = \"orange\"\n",
    "    elif locations.Type[i] == \"Distribution Centre\":\n",
    "        iconCol = \"black\"\n",
    "    folium.Marker(list(reversed(coords[i])), popup= locations.Store[i], icon = folium.Icon(color = iconCol)).add_to(m)\n",
    "m"
   ]
  },
  {
   "cell_type": "code",
   "execution_count": null,
   "metadata": {},
   "outputs": [],
   "source": []
  }
 ],
 "metadata": {
  "kernelspec": {
   "display_name": "Python 3",
   "language": "python",
   "name": "python3"
  },
  "language_info": {
   "codemirror_mode": {
    "name": "ipython",
    "version": 3
   },
   "file_extension": ".py",
   "mimetype": "text/x-python",
   "name": "python",
   "nbconvert_exporter": "python",
   "pygments_lexer": "ipython3",
   "version": "3.8.5"
  }
 },
 "nbformat": 4,
 "nbformat_minor": 4
}
